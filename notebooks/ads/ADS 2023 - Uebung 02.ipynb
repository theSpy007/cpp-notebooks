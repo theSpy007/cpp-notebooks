{
 "cells": [
  {
   "cell_type": "markdown",
   "id": "c7a4507c",
   "metadata": {},
   "source": [
    "# ADS - Übung 2 - SS2023 [`@Ingrid Scholl - FH Aachen`](https://www.fh-aachen.de/menschen/scholl)\n",
    "**Thema**: Analyse von Algorithmen, O-Notation"
   ]
  },
  {
   "cell_type": "code",
   "execution_count": 1,
   "id": "957a6801",
   "metadata": {},
   "outputs": [],
   "source": [
    "// includes\n",
    "#include <iostream>\n",
    "#include <fstream>\n",
    "#include <chrono>"
   ]
  },
  {
   "cell_type": "markdown",
   "id": "4ec32fd9",
   "metadata": {},
   "source": [
    "## Aufgabe 1\n",
    "Annahme: T<sub>1</sub>(N) = O(f(N)) und T<sub>2</sub>(N) = O(f(n)). Welche der folgenden Aussagen ist wahr?\n",
    "\n",
    "1. T<sub>1</sub>(N) + T<sub>2</sub>(N) = O(f(n))\n",
    "2. T<sub>1</sub>(N) / T<sub>2</sub>(N) = O(1)\n",
    "3. T<sub>1</sub>(N) = O(T<sub>2</sub>(N))"
   ]
  },
  {
   "cell_type": "markdown",
   "id": "c1cb1c07",
   "metadata": {},
   "source": [
    "## Aufgabe 2\n",
    "Gegeben sei ein lineares Feld `a[1..n]` positiver reeller Zahlen. Gegeben seien außerdem eine Funktion `g`, die als Werte `0` oder `1` liefert, und die folgende Funktion `gtest`:\n",
    "```cpp\n",
    "int gtest(int li, int re) \n",
    "{\n",
    "   if (li > re) return 0;\n",
    "   int m = (li + re) / 2;\n",
    "   return gtest(li, m-1) + g(a[m]) + gtest(m+1, re);\n",
    "}\n",
    "```\n",
    "\n",
    "1. Beschreiben Sie, welches Resultat die Funktion beim Aufruf `gtest(1, n)` für ein gegebenes Feld `a` liefert.\n",
    "2. Ermitteln Sie größenordnungsmäßig die Anzahl der Additionen bei der Ausführung eines Aufrufs von `gtest(li, re)` im schlimmsten Fall, in Abhängigkeit von $| re – li |$, mit Hilfe einer Rekursionsformel.\n",
    "3. Geben Sie in C++ ein alternatives (iteratives) Verfahren zur Ermittlung des Funktionswertes gtest an. Verwenden Sie denselben Funktionskopf:"
   ]
  },
  {
   "cell_type": "code",
   "execution_count": 2,
   "id": "7f20d053",
   "metadata": {},
   "outputs": [],
   "source": [
    "int g(int a) { return 0; }"
   ]
  },
  {
   "cell_type": "code",
   "execution_count": 3,
   "id": "804e920d",
   "metadata": {},
   "outputs": [],
   "source": [
    "int gtest(int li, int re)\n",
    "{\n",
    "    // Ihre Loseung hier:\n",
    "    return 0;\n",
    "}"
   ]
  },
  {
   "cell_type": "markdown",
   "id": "54b5d13f",
   "metadata": {},
   "source": [
    "## Aufgabe 3\n",
    "Die Fibonacci-Zahlen sind für $n\\in{0,1,2,...}$ wie folgt rekursiv definiert\n",
    "1. F(0)  =  0\n",
    "2. F(1)  =  1\n",
    "3. F(n)  =  F(n - 1) + F(n - 2)  für n $\\geq$ 2.\n",
    "\n",
    "Zeigen Sie z.B. durch vollständige Induktion:\n",
    "1. Für n $\\geq$ 6 ist F(n) $\\geq$ 2<sup>n/2</sup>\n",
    "2. Für n $\\geq$ 2 gilt F(0) + ... + F(n) = F(n+2) - 1\n",
    "3. Für n $\\geq$ 1 ist F<sup>2</sup>(n) = F(n-1) F(n+1) + (-1)<sup>n+1</sup>\n",
    "\n",
    "### Wirklich kein + bei 3.?"
   ]
  },
  {
   "cell_type": "markdown",
   "id": "47b5e736",
   "metadata": {},
   "source": [
    "## Aufgabe 4\n",
    "Gegeben sind die folgenden 6 Programmfragmente:\n",
    "\n",
    "```cpp\n",
    "// (1)\n",
    "sum = 0;\n",
    "for (int i = 0; i < n; i++)\n",
    "\tsum++;\n",
    "```\n",
    "\n",
    "```cpp\n",
    "// (2)\n",
    "sum = 0;\n",
    "for (int i = 1; i < n; i = i*2)\n",
    "\tfor (int j = 0; j < n; j++)\n",
    "\t\tsum++;\n",
    "```\n",
    "\n",
    "```cpp\n",
    "// (3)\n",
    "sum = 0;\n",
    "for (int i = 0; i < n; i++)\n",
    "\tfor (int j = 0; j < n*n; j++)\n",
    "\t\tsum++;\n",
    "```\n",
    "\n",
    "```cpp\n",
    "// (4)\n",
    "sum = 0;\n",
    "for (int i = 0; i < n; i++)\n",
    "\tfor (int j = 0; j < i; j++)\n",
    "\t\tsum++;\n",
    "```\n",
    "\n",
    "```cpp\n",
    "// (5)\n",
    "sum = 0;\n",
    "for (int i = 0; i < n; i++)\n",
    "\tfor (int j = 0; j < i * i; j++)\n",
    "\t\tfor (int k = 0; k < j; k++)\n",
    "     \t\tsum++;\n",
    "```\n",
    "\n",
    "```cpp\n",
    "// (6)\n",
    "sum = 0;\n",
    "for (int i = 1; i < n; i++)\n",
    "\tfor (int j = 1; j < i * i; j++)\n",
    "\t\tif (j % i == 0)\n",
    "            for (int k = 0; k < j; k++)\n",
    "                sum++;\n",
    "```\n",
    "\n",
    "1. Geben Sie die Laufzeitanalyse in der Groß-O-Notation an.\n",
    "2. *(Loesen Sie folgende Aufgabe lieber lokal auf Ihrem Rechner in einer normalen CPP Arbeitsmappe, da die Alogirthmen signifikant langsamer auf dem Binder sind.)* Implementieren Sie den Code in C++ und geben Sie die Laufzeiten sowie das Ergebnis der Variablen `sum` für die Werte `N` von `10` bis `100000` in der Schrittweite `100` in einer Datei aus. Stellen Sie die Ergebnisse grafisch dar. Die x-Achse sei `N` und die y-Achse sei die Laufzeit `T(N)` bzw. in einer weiteren Grafik der Endwert von `sum`:"
   ]
  },
  {
   "cell_type": "code",
   "execution_count": 4,
   "id": "04a823f7",
   "metadata": {},
   "outputs": [],
   "source": [
    "// Ihre Loseung fuer (1) hier:\n",
    "int no_1(int n)\n",
    "{\n",
    "    int sum = 0;\n",
    "    for (int i = 0; i < n; i++) sum++;\n",
    "    return sum;\n",
    "}"
   ]
  },
  {
   "cell_type": "code",
   "execution_count": 5,
   "id": "36edbc31",
   "metadata": {},
   "outputs": [],
   "source": [
    "// Ihre Loseung fuer (2) hier:\n",
    "int no_2(int n)\n",
    "{\n",
    "    int sum = 0;\n",
    "    for (int i = 1; i < n; i = i*2)\n",
    "        for (int j = 0; j < n; j++)\n",
    "            sum++;\n",
    "    return sum;\n",
    "}"
   ]
  },
  {
   "cell_type": "code",
   "execution_count": 6,
   "id": "35454934",
   "metadata": {},
   "outputs": [],
   "source": [
    "// Ihre Loseung fuer (3) hier:\n",
    "int no_3(int n)\n",
    "{\n",
    "    int sum = 0;\n",
    "    for (int i = 0; i < n; i++)\n",
    "        for (int j = 0; j < n*n; j++)\n",
    "            sum++;\n",
    "    return sum;\n",
    "}"
   ]
  },
  {
   "cell_type": "code",
   "execution_count": 7,
   "id": "c27ffdc0",
   "metadata": {},
   "outputs": [],
   "source": [
    "// Ihre Loseung fuer (4) hier:\n",
    "int no_4(int n)\n",
    "{\n",
    "    int sum = 0;\n",
    "    for (int i = 0; i < n; i++)\n",
    "        for (int j = 0; j < i; j++)\n",
    "            sum++;\n",
    "    return sum;\n",
    "}"
   ]
  },
  {
   "cell_type": "code",
   "execution_count": null,
   "id": "a2e403c0",
   "metadata": {},
   "outputs": [],
   "source": [
    "// Ihre Loseung fuer (5) hier:\n",
    "int no_5(int n)\n",
    "{\n",
    "    int sum = 0;\n",
    "    for (int i = 0; i < n; i++)\n",
    "        for (int j = 0; j < i * i; j++)\n",
    "            for (int k = 0; k < j; k++)\n",
    "                sum++;\n",
    "    return sum;\n",
    "}"
   ]
  },
  {
   "cell_type": "code",
   "execution_count": 9,
   "id": "f9b9b42a",
   "metadata": {},
   "outputs": [],
   "source": [
    "// Ihre Loseung fuer (6) hier:\n",
    "int no_6(int n)\n",
    "{\n",
    "    int sum = 0;\n",
    "    for (int i = 1; i < n; i++)\n",
    "        for (int j = 1; j < i * i; j++)\n",
    "            if (j % i == 0)\n",
    "                for (int k = 0; k < j; k++)\n",
    "                    sum++;\n",
    "    return sum;\n",
    "}"
   ]
  },
  {
   "cell_type": "code",
   "execution_count": 10,
   "id": "adb80d63",
   "metadata": {
    "tags": []
   },
   "outputs": [],
   "source": [
    "// Schreiben Sie hier eine Funktion um die Dauer einer Funktion zu messen \n",
    "// und diese in Millisekunden zurück zu geben.\n",
    "double timeit_no_x(int(*func)(int), int n, int& sum)\n",
    "{\n",
    "    // Ihre Loseung hier:\n",
    "    auto start = std::chrono::high_resolution_clock::now();\n",
    "    sum = func(n);\n",
    "    std::chrono::duration<double> duration = std::chrono::high_resolution_clock::now() - start;\n",
    "    return duration.count();\n",
    "}"
   ]
  },
  {
   "cell_type": "code",
   "execution_count": 13,
   "id": "d3c33ee4-52a5-4ed7-a423-f75187188b55",
   "metadata": {},
   "outputs": [],
   "source": [
    "// Hier ist platz fuer eine Hilfsfunktion (falls Sie den brauchen):\n",
    "void test_function_no_x(int start_index, int end_index, int step_size, int(*func)(int), const char* filename)\n",
    "{\n",
    "    std::ofstream file;\n",
    "    file.open(filename);\n",
    "    file << \"n,duration_in_ms,sum\" << std::endl;\n",
    "    for (int i = start_index; i < end_index; i*=step_size)\n",
    "    {\n",
    "        int res = 0;\n",
    "        double duration = timeit_no_x(func, i, res);\n",
    "        file << i << \",\" << duration << \",\" << res << std::endl;\n",
    "    }\n",
    "    file.close();\n",
    "}"
   ]
  },
  {
   "cell_type": "code",
   "execution_count": 20,
   "id": "b837cbac-7f01-4b25-aec7-56ff98c0b54a",
   "metadata": {
    "tags": []
   },
   "outputs": [],
   "source": [
    "// Testen Sie hier die Geschwindigkeit von no_1. \n",
    "test_function_no_x(10, 1e5+1, 1e2, no_1, \"ue02_output/no_1.csv\");"
   ]
  },
  {
   "cell_type": "code",
   "execution_count": 21,
   "id": "4a91d1bb-7c60-4bad-bd90-21a2e32c371e",
   "metadata": {
    "tags": []
   },
   "outputs": [],
   "source": [
    "// Testen Sie hier die Geschwindigkeit von no_2. \n",
    "test_function_no_x(10, 1e5+1, 1e2, no_2, \"ue02_output/no_2.csv\");"
   ]
  },
  {
   "cell_type": "code",
   "execution_count": null,
   "id": "c1761c90-764c-4bc9-9779-ba4289502061",
   "metadata": {
    "tags": []
   },
   "outputs": [
    {
     "name": "stdout",
     "output_type": "stream",
     "text": [
      "10 4.162e-06 1000\n",
      "1000 3.26857 1000000000\n"
     ]
    }
   ],
   "source": [
    "// Testen Sie hier die Geschwindigkeit von no_3. \n",
    "test_function_no_x(10, 1e5+1, 1e2, no_3, \"ue02_output/no_3.csv\");"
   ]
  },
  {
   "cell_type": "code",
   "execution_count": 22,
   "id": "40d4d633-366a-4de5-843c-07ceed76ba1a",
   "metadata": {},
   "outputs": [],
   "source": [
    "// Testen Sie hier die Geschwindigkeit von no_4. \n",
    "test_function_no_x(10, 1e5+1, 1e2, no_4, \"ue02_output/no_4.csv\");"
   ]
  },
  {
   "cell_type": "code",
   "execution_count": null,
   "id": "461f267c-9c67-4357-afe6-548702f4e476",
   "metadata": {},
   "outputs": [],
   "source": [
    "// Testen Sie hier die Geschwindigkeit von no_5. \n",
    "test_function_no_x(10, 1e5+1, 1e2, no_5, \"ue02_output/no_5.csv\");"
   ]
  },
  {
   "cell_type": "code",
   "execution_count": null,
   "id": "f316cdb3-fc2c-4de3-931d-65b5c17994dd",
   "metadata": {},
   "outputs": [],
   "source": [
    "// Testen Sie hier die Geschwindigkeit von no_6. \n",
    "test_function_no_x(10, 1e5+1, 1e2, no_6, \"ue02_output/no_6.csv\");"
   ]
  },
  {
   "cell_type": "markdown",
   "id": "2d545456",
   "metadata": {
    "tags": []
   },
   "source": [
    "3. Vergleichen Sie ihre Analyse-Ergebnisse mit den aktuellen Laufzeiten. "
   ]
  },
  {
   "cell_type": "markdown",
   "id": "2927d362-3e43-4937-b906-1c2471840468",
   "metadata": {},
   "source": [
    "## Aufgabe 5\n",
    "Ordnen Sie die folgenden Funktionen nach ihrer Wachstumsrate:\n",
    "\n",
    "$N, \\sqrt{N}, N^{1.5}, N^2, N log N, N log log N, N log^2 N, N log (N^2), 2/N, 2^N, 2^{N/2}, 37, N^2 log N, N^3$\n",
    "\n",
    "Bestimmen Sie, welche Funktionen in die gleiche Komplexitätsklasse fallen und somit mit gleicher Rate wachsen."
   ]
  }
 ],
 "metadata": {
  "kernelspec": {
   "display_name": "C++17",
   "language": "C++17",
   "name": "xcpp17"
  },
  "language_info": {
   "codemirror_mode": "text/x-c++src",
   "file_extension": ".cpp",
   "mimetype": "text/x-c++src",
   "name": "c++",
   "version": "17"
  }
 },
 "nbformat": 4,
 "nbformat_minor": 5
}
