{
 "cells": [
  {
   "cell_type": "markdown",
   "id": "f5dedc70-e3e3-402c-9881-a073fcefd73c",
   "metadata": {},
   "source": [
    "# ADS - Übung 4 - SS2023 [`@Ingrid Scholl - FH Aachen`](https://www.fh-aachen.de/menschen/scholl)\n",
    "**Thema**: Elementare Sortieralgorithmen"
   ]
  },
  {
   "cell_type": "code",
   "execution_count": 1,
   "id": "17cff077-e829-4a4d-9ab8-d379effad672",
   "metadata": {},
   "outputs": [],
   "source": [
    "// includes\n",
    "#include <iostream>\n",
    "#include <vector>"
   ]
  },
  {
   "cell_type": "markdown",
   "id": "e59df42a-7a98-4444-9ec1-38442d084f8f",
   "metadata": {},
   "source": [
    "# Aufgabe 1\n",
    "Gegeben sei die folgende Zahlenfolge:"
   ]
  },
  {
   "cell_type": "code",
   "execution_count": 2,
   "id": "b1676ee5-cada-47b3-aa9e-ff168e4cff11",
   "metadata": {},
   "outputs": [],
   "source": [
    "std::vector<int> nums = {4, 3, 10, 0, 6, 8, 9, 2};"
   ]
  },
  {
   "cell_type": "code",
   "execution_count": 3,
   "id": "e6e68812-e8e1-4c07-a330-1c1c68a9f3bd",
   "metadata": {},
   "outputs": [],
   "source": [
    "// Optionale Hilfsfunktion zur Ausgabe von Vectoren hier:\n",
    "void print(std::vector<int> vec)\n",
    "{\n",
    "    for (const int& i : vec) std::cout << i << \", \";\n",
    "    std::cout << std::endl;\n",
    "}"
   ]
  },
  {
   "cell_type": "markdown",
   "id": "9b8d557c-6f36-46d7-a99e-3d4835e0cfa5",
   "metadata": {},
   "source": [
    "Zeigen Sie das Ablaufprotokoll, wenn Sie die Folge in aufsteigender Reihenfolge mit den folgenden Verfahren sortieren.\n",
    "1. Selection Sort\n",
    "2. Insertion Sort\n",
    "3. BubbleSort\n",
    "\n",
    "Geben Sie das Array nach jedem einzelnen Sortierdurchlauf aus."
   ]
  },
  {
   "cell_type": "code",
   "execution_count": 4,
   "id": "60b9e169-9637-48cd-a5e1-773f2b9de5a5",
   "metadata": {},
   "outputs": [],
   "source": [
    "// SelectionSort\n",
    "std::vector<int> selection_sort(std::vector<int> nums)\n",
    "{\n",
    "    // Ihre Loseung hier\n",
    "    return nums;\n",
    "}"
   ]
  },
  {
   "cell_type": "code",
   "execution_count": 5,
   "id": "9d794907-d7be-409d-be04-743597651bc7",
   "metadata": {},
   "outputs": [],
   "source": [
    "// Testen Sie Ihren Algorithmus hier:"
   ]
  },
  {
   "cell_type": "code",
   "execution_count": 6,
   "id": "cfa8a5d4-d37e-4086-b4c2-8b21433c74bb",
   "metadata": {},
   "outputs": [],
   "source": [
    "// InsertionSort\n",
    "std::vector<int> insertion_sort(std::vector<int> nums)\n",
    "{\n",
    "    // Ihre Loseung hier\n",
    "    return nums;\n",
    "}"
   ]
  },
  {
   "cell_type": "code",
   "execution_count": 7,
   "id": "b1a59950-7d74-41f9-915a-cc34eaf59538",
   "metadata": {
    "tags": []
   },
   "outputs": [],
   "source": [
    "// Testen Sie Ihren Algorithmus hier:"
   ]
  },
  {
   "cell_type": "code",
   "execution_count": 8,
   "id": "b755eb72-e1ca-48df-82a3-7e8f69d9d45a",
   "metadata": {},
   "outputs": [],
   "source": [
    "// BubbleSort\n",
    "std::vector<int> bubble_sort(std::vector<int> nums)\n",
    "{\n",
    "    // Ihre Loseung hier\n",
    "    for (int i = 1; i < nums.size(); i++)\n",
    "    {\n",
    "        for (int j = 0; j < nums.size() - i; j++)\n",
    "        {\n",
    "            if (nums[j] > nums[j + 1])\n",
    "            {\n",
    "                int tmp = nums[j];\n",
    "                nums[j] = nums[j+1];\n",
    "                nums[j+1] = tmp;\n",
    "            }\n",
    "        }\n",
    "        print(nums);\n",
    "    }\n",
    "    return nums;\n",
    "}"
   ]
  },
  {
   "cell_type": "code",
   "execution_count": 9,
   "id": "64883e51-f8ec-4692-b20f-a7df75d03f0d",
   "metadata": {},
   "outputs": [
    {
     "name": "stdout",
     "output_type": "stream",
     "text": [
      "3, 4, 0, 6, 8, 9, 2, 10, \n",
      "3, 0, 4, 6, 8, 2, 9, 10, \n",
      "0, 3, 4, 6, 2, 8, 9, 10, \n",
      "0, 3, 4, 2, 6, 8, 9, 10, \n",
      "0, 3, 2, 4, 6, 8, 9, 10, \n",
      "0, 2, 3, 4, 6, 8, 9, 10, \n",
      "0, 2, 3, 4, 6, 8, 9, 10, \n"
     ]
    }
   ],
   "source": [
    "// Testen Sie Ihren Algorithmus hier:\n",
    "bubble_sort(nums);"
   ]
  }
 ],
 "metadata": {
  "kernelspec": {
   "display_name": "C++17",
   "language": "C++17",
   "name": "xcpp17"
  },
  "language_info": {
   "codemirror_mode": "text/x-c++src",
   "file_extension": ".cpp",
   "mimetype": "text/x-c++src",
   "name": "c++",
   "version": "17"
  }
 },
 "nbformat": 4,
 "nbformat_minor": 5
}
