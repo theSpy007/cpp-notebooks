{
 "cells": [
  {
   "cell_type": "markdown",
   "id": "daaaeadc",
   "metadata": {},
   "source": [
    "# ADS - Übung 1 - SS2023 [`@Ingrid Scholl - FH Aachen`](https://www.fh-aachen.de/menschen/scholl)\n",
    "**Thema**: Stacks, Queues und verkettete Listen (VL) "
   ]
  },
  {
   "cell_type": "code",
   "execution_count": 1,
   "id": "663d827e",
   "metadata": {},
   "outputs": [],
   "source": [
    "// includes\n",
    "#include <iostream>\n",
    "#include <list>\n",
    "#include <stdexcept>\n",
    "#include <stack>\n",
    "#include <string>\n",
    "#include <ctype.h>\n",
    "#include <sstream>"
   ]
  },
  {
   "cell_type": "markdown",
   "id": "c6b7e5cb",
   "metadata": {},
   "source": [
    "## Aufgabe 1 (Vertauschen von 2 Elementen)\n",
    "Gegeben seien jeweils Verkettete Listen (VL) mit explizitem head- und tail-Knoten dh. diese sind nicht mit Daten belegt. Der erste Knoten der VL würde dann zwischen head und tail eingefügt werden. Folgende Datenstrukturen sind für ein Element der einfachen und doppelten VL definiert:"
   ]
  },
  {
   "cell_type": "code",
   "execution_count": 2,
   "id": "1c03cf01",
   "metadata": {},
   "outputs": [],
   "source": [
    "// Element in einer einfach VL\n",
    "class NodeE \n",
    "{\n",
    "public:\n",
    "    int item;\n",
    "    NodeE *next;\n",
    "};\n",
    "\n",
    "// Element in einer doppelt VL\n",
    "class NodeD \n",
    "{\n",
    "public:\n",
    "    int item;\n",
    "    NodeD *next;\n",
    "    NodeD *prev;\n",
    "};"
   ]
  },
  {
   "cell_type": "markdown",
   "id": "60db539d",
   "metadata": {},
   "source": [
    "Und folgende Datenstrukturen für eine einfache und doppelte VL: "
   ]
  },
  {
   "cell_type": "code",
   "execution_count": 3,
   "id": "dee917b5",
   "metadata": {},
   "outputs": [],
   "source": [
    "// Einfach VL\n",
    "class ListE \n",
    "{\n",
    "public:\n",
    "    // Konstruktor\n",
    "    ListE() {};\n",
    "    ListE(std::initializer_list<int> init) : m_length(0) \n",
    "        { for (const int& item : init) this->add(item); }\n",
    "    \n",
    "    // Dekonstruktor\n",
    "    ~ListE() \n",
    "    {\n",
    "        while (m_head != nullptr)\n",
    "        {\n",
    "            NodeE* tmp = m_head->next;\n",
    "            delete m_head;\n",
    "            m_head = tmp;\n",
    "        }\n",
    "    }\n",
    "    \n",
    "    // Add Methode welche am Ende der Liste einen \n",
    "    //Knoten mit der Variable item anfuegt\n",
    "    void add(const int& item)\n",
    "    {\n",
    "        m_length++;\n",
    "        NodeE* new_node = new NodeE();\n",
    "        new_node->item = item;\n",
    "        if (m_tail == nullptr) m_head = new_node;\n",
    "        else m_tail->next = new_node;\n",
    "        \n",
    "        m_tail = new_node;\n",
    "    }\n",
    "    \n",
    "    // Print Methode um Liste auszugeben\n",
    "    void print() const\n",
    "    {\n",
    "        NodeE* current = m_head;\n",
    "        std::cout << \"[\";\n",
    "        while (true)\n",
    "        {\n",
    "            std::cout << current->item;\n",
    "            if (current->next != nullptr) \n",
    "            {\n",
    "                std::cout << \", \";\n",
    "                current = current->next;\n",
    "            }\n",
    "            else break;\n",
    "        }\n",
    "        std::cout << \"]\" << std::endl;\n",
    "    }\n",
    "    \n",
    "    // Gibt die Laenge der Liste zurueck\n",
    "    int length() const { return m_length; }\n",
    "    \n",
    "    // Swap Methode welche den Knoten an der stelle \n",
    "    // Index mit dem naechsten tauscht\n",
    "    bool swap(const int& index);\n",
    "    \n",
    "    // Print Methode welche die Knoten rueckwaerts \n",
    "    // (in O(n)) ausgibt. Wird bei Aufgabe 4 implementiert.\n",
    "    void print_reversed() const;\n",
    "private:\n",
    "    NodeE* m_head;\n",
    "    NodeE* m_tail;\n",
    "    int m_length;\n",
    "    \n",
    "    // Hilf Methode fuer print reversed (wenn print reversed rekursiv \n",
    "    // implementiert wird)\n",
    "    void print_reversed_helper(NodeE* node) const;\n",
    "};\n",
    "\n",
    "// Doppelt VL\n",
    "class ListD\n",
    "{\n",
    "public:\n",
    "    // Konstruktor\n",
    "    ListD() {};\n",
    "    ListD(std::initializer_list<int> init) : m_length(0) \n",
    "        { for (const int& item : init) this->add(item); }\n",
    "    \n",
    "    // Dekonstruktor\n",
    "    ~ListD() \n",
    "    {\n",
    "        if (m_head == nullptr) return;\n",
    "        while (m_head->next != nullptr)\n",
    "        {\n",
    "            m_head = m_head->next;\n",
    "            delete m_head->prev;\n",
    "        }\n",
    "        delete m_head;\n",
    "    }\n",
    "    \n",
    "    // Add Methode welche am Ende der Liste einen Knoten mit der \n",
    "    // Variable item anfuegt\n",
    "    void add(const int& item)\n",
    "    {\n",
    "        m_length++;\n",
    "        \n",
    "        NodeD* new_node = new NodeD();\n",
    "        new_node->item = item;\n",
    "        new_node->prev = m_tail;\n",
    "        \n",
    "        if (m_tail == nullptr) m_head = new_node;\n",
    "        else m_tail->next = new_node;\n",
    "        \n",
    "        m_tail = new_node;\n",
    "    }\n",
    "    \n",
    "    // Print Methode um Liste auszugeben\n",
    "    void print() const\n",
    "    {\n",
    "        NodeD* current = m_head;\n",
    "        std::cout << \"[\";\n",
    "        while (true)\n",
    "        {\n",
    "            std::cout << current->item;\n",
    "            if (current->next != nullptr) \n",
    "            {\n",
    "                std::cout << \", \";\n",
    "                current = current->next;\n",
    "            }\n",
    "            else break;\n",
    "        }\n",
    "        std::cout << \"]\" << std::endl;\n",
    "    }\n",
    "    \n",
    "    // Print Methode um Liste rueckwaerts auszugeben\n",
    "    void print_reversed() const\n",
    "    {\n",
    "        NodeD* current = m_tail;\n",
    "        std::cout << \"[\";\n",
    "        while (true)\n",
    "        {\n",
    "            std::cout << current->item;\n",
    "            if (current->prev != nullptr) \n",
    "            {\n",
    "                std::cout << \", \";\n",
    "                current = current->prev;\n",
    "            }\n",
    "            else break;\n",
    "        }\n",
    "        std::cout << \"]\" << std::endl;\n",
    "    }\n",
    "    \n",
    "    // gibt die Laenge der Liste zurueck\n",
    "    int length() const { return m_length; }\n",
    "    \n",
    "    // Swap Methode welche den Knoten an der stelle \n",
    "    // Index mit dem naechsten tauscht\n",
    "    bool swap(const int& index);\n",
    "private:\n",
    "    NodeD* m_head;\n",
    "    NodeD* m_tail;\n",
    "    int m_length;\n",
    "};"
   ]
  },
  {
   "cell_type": "markdown",
   "id": "c3aa356f",
   "metadata": {},
   "source": [
    "Schreiben Sie jeweils eine Methode swap, die 2 benachbarte Elemente nur durch Umbiegen der Referenzen vertauscht. (**Beachten Sie**: Es ist keine gültige Lösung, wenn Sie nur die Daten in den benach-barten Knoten tauschen. Überlegen Sie, warum im Allgemeinen das Umbiegen der Zeiger auf die Knoten effizienter ist.)\n",
    "1. Bei einer einfach verketteten Liste:"
   ]
  },
  {
   "cell_type": "code",
   "execution_count": 4,
   "id": "d042e51a",
   "metadata": {},
   "outputs": [],
   "source": [
    "bool ListE::swap(const int& index)\n",
    "{\n",
    "    // Ihre Loesung hier:\n",
    "    // Korrekten Knoten suchen:\n",
    "    if (m_head == nullptr)\n",
    "    {\n",
    "        std::cout << \"Swap: Index is out of bounds!\";\n",
    "        return false;\n",
    "    }\n",
    "\n",
    "    NodeE* current = m_head;\n",
    "    NodeE* prev = nullptr;\n",
    "    for (int i = 0; i < index; i++)\n",
    "    {\n",
    "        if (current->next != nullptr && current->next->next != nullptr)\n",
    "        {\n",
    "            prev = current;\n",
    "            current = current->next;\n",
    "        }\n",
    "        else \n",
    "        {\n",
    "            std::cout << \"Swap: Index is out of bounds!\";\n",
    "            return false;\n",
    "        }\n",
    "    }\n",
    "\n",
    "    // swap\n",
    "    if (current->next == m_tail) m_tail = current;\n",
    "    if (prev == nullptr) m_head = current->next;\n",
    "    else prev->next = current->next;\n",
    "    prev = current->next;\n",
    "    current->next = prev->next;\n",
    "    prev->next=current;\n",
    "    \n",
    "    return true;\n",
    "}"
   ]
  },
  {
   "cell_type": "code",
   "execution_count": 40,
   "id": "307b6d22",
   "metadata": {},
   "outputs": [
    {
     "name": "stdout",
     "output_type": "stream",
     "text": [
      "Default: [0, 1, 2, 3, 4, 5]\n",
      "After swap 0: [1, 0, 2, 3, 4, 5]\n",
      "After swap 1: [1, 2, 0, 3, 4, 5]\n",
      "After swap 2: [1, 2, 3, 0, 4, 5]\n",
      "After swap 3: [1, 2, 3, 4, 0, 5]\n",
      "After swap 4: [1, 2, 3, 4, 5, 0]\n"
     ]
    }
   ],
   "source": [
    "// Teste Sie hier Ihre Methode Swap für eine einfach VL:\n",
    "ListE listE({0,1,2,3,4,5});\n",
    "std::cout << \"Default: \";\n",
    "listE.print();\n",
    "for (int i = 0; i < listE.length() - 1; i++)\n",
    "{\n",
    "    listE.swap(i);\n",
    "    std::cout << \"After swap \" << i << \": \";\n",
    "    listE.print();\n",
    "}"
   ]
  },
  {
   "cell_type": "markdown",
   "id": "f8f120dc",
   "metadata": {},
   "source": [
    "2. Bei einer doppelt verketteten Liste:"
   ]
  },
  {
   "cell_type": "code",
   "execution_count": 6,
   "id": "f61576fa",
   "metadata": {},
   "outputs": [],
   "source": [
    "bool ListD::swap(const int& index)\n",
    "{\n",
    "    // Ihre Loesung hier:\n",
    "    // Korrekten Knoten suchen:\n",
    "    if (m_head == nullptr)\n",
    "    {\n",
    "        std::cout << \"Swap: Index is out of bounds!\";\n",
    "        return false;\n",
    "    }\n",
    "\n",
    "    NodeD* current = m_head;\n",
    "    for (int i = 0; i < index; i++)\n",
    "    {\n",
    "        if (current->next != nullptr && current->next->next != nullptr)\n",
    "        {\n",
    "            current = current->next;\n",
    "        }\n",
    "        else \n",
    "        {\n",
    "            std::cout << \"Swap: Index is out of bounds!\";\n",
    "            return false;\n",
    "        }\n",
    "    }\n",
    "\n",
    "    // swap\n",
    "    if (current->next == m_tail) m_tail = current;\n",
    "    if (current->prev == nullptr) m_head = current->next;\n",
    "    else current->prev->next = current->next;\n",
    "    current->next->prev = current->prev;\n",
    "    current->prev = current->next;\n",
    "    current->next = current->prev->next;\n",
    "    current->prev->next = current;\n",
    "    if (current->next != nullptr) current->next->prev = current;\n",
    "    \n",
    "    return true;\n",
    "}"
   ]
  },
  {
   "cell_type": "code",
   "execution_count": 7,
   "id": "50e0c31d",
   "metadata": {},
   "outputs": [
    {
     "name": "stdout",
     "output_type": "stream",
     "text": [
      "Default: [0, 1, 2, 3, 4, 5]\n",
      "After swap 0: [1, 0, 2, 3, 4, 5]\n",
      "After swap 1: [1, 2, 0, 3, 4, 5]\n",
      "After swap 2: [1, 2, 3, 0, 4, 5]\n",
      "After swap 3: [1, 2, 3, 4, 0, 5]\n",
      "After swap 4: [1, 2, 3, 4, 5, 0]\n",
      "Reversed: [0, 5, 4, 3, 2, 1]\n"
     ]
    }
   ],
   "source": [
    "// Teste Sie hier Ihre Methode Swap für eine doppelt VL:\n",
    "ListD listD({0,1,2,3,4,5});\n",
    "std::cout << \"Default: \";\n",
    "listD.print();\n",
    "for (int i = 0; i < listD.length() - 1; i++)\n",
    "{\n",
    "    listD.swap(i);\n",
    "    std::cout << \"After swap \" << i << \": \";\n",
    "    listD.print();\n",
    "}\n",
    "std::cout << \"Reversed: \";\n",
    "listD.print_reversed();"
   ]
  },
  {
   "cell_type": "markdown",
   "id": "c6f12bb5",
   "metadata": {},
   "source": [
    "## Aufgabe 2 (Mischen von 2 Listen)\n",
    "Gegeben sind zwei sortierte Listen ohne Duplikate L1 und L2:"
   ]
  },
  {
   "cell_type": "code",
   "execution_count": 8,
   "id": "763e21fd",
   "metadata": {},
   "outputs": [],
   "source": [
    "std::list<int> l1 = {10, 11, 13, 15, 18, 20, 21};\n",
    "std::list<int> l2 = {4, 8, 10, 12, 14, 15, 18, 23};"
   ]
  },
  {
   "cell_type": "markdown",
   "id": "307941aa",
   "metadata": {},
   "source": [
    "1. Schreiben Sie eine Funktion, die nur mit den grundlegenden Listen-Operationen aus der stl::list, s. [hier](https://cplusplus.com/reference/list/list/)  oder [hier](https://cplusplus.com/reference/list/list/front/) die sortierte Vereinigung von beiden Listen erzeugt. (**Ergebnis für das Beispiel**: L1 ∩ L2 = {4,8,10,10,11,12,13,14,15,15,18,18,18,20,21,23})"
   ]
  },
  {
   "cell_type": "code",
   "execution_count": 9,
   "id": "b6c133d7",
   "metadata": {},
   "outputs": [],
   "source": [
    "std::list<int> union_of_lists(const std::list<int>& l1, \n",
    "                              const std::list<int>& l2)\n",
    "{\n",
    "    // Ihre Loesung hier:\n",
    "    std::list<int> result;\n",
    "    std::list<int>::const_iterator iter1 = l1.begin();\n",
    "    std::list<int>::const_iterator iter2 = l2.begin();\n",
    "    \n",
    "    while (iter1 != l1.end() || iter2 != l2.end())\n",
    "    {\n",
    "        if (iter1 == l1.end()) result.push_back(*(iter2++));\n",
    "        else if (iter2 == l2.end()) result.push_back(*(iter1++));\n",
    "        else if (*iter1 <= *iter2) result.push_back(*(iter1++));\n",
    "        else result.push_back(*(iter2++));\n",
    "    }\n",
    "    \n",
    "    return result;\n",
    "}"
   ]
  },
  {
   "cell_type": "code",
   "execution_count": 10,
   "id": "42fde9d1",
   "metadata": {},
   "outputs": [
    {
     "name": "stdout",
     "output_type": "stream",
     "text": [
      "l1 ∩ l2 = {4, 8, 10, 10, 11, 12, 13, 14, 15, 15, 18, 18, 18, 20, 21, 23, }"
     ]
    }
   ],
   "source": [
    "// Teste fuer Ihre Loesung:\n",
    "std::list<int> l1_union_l2 = union_of_lists(l1, l2);\n",
    "std::cout << \"l1 ∩ l2 = {\";\n",
    "for (auto const &v : l1_union_l2)\n",
    "        std::cout << v << \", \";\n",
    "std::cout << \"}\";"
   ]
  },
  {
   "cell_type": "markdown",
   "id": "db045db7",
   "metadata": {},
   "source": [
    "2. Schreiben Sie eine Funktion, die nur mit den grundlegenden Listen-Operationen aus der STL die Schnittmenge von beiden Listen erzeugt.(Ergebnis für das Beispiel: L1 ∪ L2 = {10,15,18}) `18*2??`"
   ]
  },
  {
   "cell_type": "code",
   "execution_count": 11,
   "id": "5352bc39",
   "metadata": {},
   "outputs": [],
   "source": [
    "std::list<int> intersection_of_lists(const std::list<int>& l1, \n",
    "                                     const std::list<int>& l2)\n",
    "{\n",
    "    // Ihre Loesung hier:\n",
    "    std::list<int> result;\n",
    "    for (auto iter1 = l1.begin(); iter1 != l1.end(); iter1++)\n",
    "    {\n",
    "        for (auto iter2 = l2.begin(); iter2 != l2.end(); iter2++)\n",
    "        {\n",
    "            if (*iter1 == *iter2)\n",
    "            {\n",
    "                result.push_back(*iter1);\n",
    "                break;\n",
    "            }\n",
    "        }\n",
    "    }\n",
    "    return result;\n",
    "}"
   ]
  },
  {
   "cell_type": "code",
   "execution_count": 12,
   "id": "5ea2b141",
   "metadata": {},
   "outputs": [
    {
     "name": "stdout",
     "output_type": "stream",
     "text": [
      "l1 ∪ l2 = {10, 15, 18, 18, }"
     ]
    }
   ],
   "source": [
    "// Teste fuer Ihre Loesung:\n",
    "std::list<int> l1_intersection_l2 = intersection_of_lists(l1, l2);\n",
    "std::cout << \"l1 ∪ l2 = {\";\n",
    "for (auto const &v : l1_intersection_l2)\n",
    "        std::cout << v << \", \";\n",
    "std::cout << \"}\";"
   ]
  },
  {
   "cell_type": "markdown",
   "id": "2c7b830f",
   "metadata": {},
   "source": [
    "3. Überlegen Sie sich ihre Laufzeit der Methoden in der O-Notation."
   ]
  },
  {
   "cell_type": "markdown",
   "id": "647f8c00",
   "metadata": {},
   "source": [
    "## Aufgabe 3 (Deque)\n",
    "Eine Deque ist eine Datenstruktur, die aus einer Liste von Datenelementen besteht, und folgende Operationen nur zulässt:\n",
    "\n",
    "1. `push_front(x)`: Einfügen eines neuen Datenelementes x am Anfang der Deque.\n",
    "2. `pop_front()`:   Entnahme eines Elementes vom Anfang der Deque.\n",
    "3. `push_back(x)`:  Einfügen eines neuen Datenelementes x am Ende der Deque.\n",
    "4. `pop_back()`:    Entnahme des letzten Elementes der Deque.\n",
    "5. `print_all()`:   Ausgabe aller Elemente vom Anfang bis zum Ende der Deque.\n",
    "\n",
    "Schreiben Sie Methoden, die diese Operationen der Deque in O(1) ermöglicht (`print_all()` in O(n)). Überlegen Sie sich, mit welcher dynamischen Datenstruktur dies erreicht werden kann."
   ]
  },
  {
   "cell_type": "code",
   "execution_count": 13,
   "id": "9d49dc3d",
   "metadata": {},
   "outputs": [],
   "source": [
    "class Deque\n",
    "{\n",
    "public:\n",
    "    // Konstruktor\n",
    "    Deque() {};\n",
    "    Deque(std::initializer_list<int> init) \n",
    "        { for (const int& item : init) this->push_back(item); }\n",
    "    \n",
    "    // Dekonstruktor\n",
    "    ~Deque()\n",
    "    {\n",
    "        if (m_head == nullptr) return;\n",
    "        while (m_head->next != nullptr)\n",
    "        {\n",
    "            m_head = m_head->next;\n",
    "            delete m_head->prev;\n",
    "        }\n",
    "        delete m_head;\n",
    "    }\n",
    "    \n",
    "    // Zu implementierende Methoden\n",
    "    void push_front(const int& item);\n",
    "    int pop_front();\n",
    "    void push_back(const int& item);\n",
    "    int pop_back();\n",
    "    void print_all() const;\n",
    "private:\n",
    "    NodeD* m_head;\n",
    "    NodeD* m_tail;\n",
    "};"
   ]
  },
  {
   "cell_type": "markdown",
   "id": "76f904e5",
   "metadata": {},
   "source": [
    "1. `push_front(x)`: Einfügen eines neuen Datenelementes x am Anfang der Deque:"
   ]
  },
  {
   "cell_type": "code",
   "execution_count": 14,
   "id": "38772673",
   "metadata": {},
   "outputs": [],
   "source": [
    "void Deque::push_front(const int& item)\n",
    "{\n",
    "    // Ihre Loseung hier:\n",
    "    NodeD* new_node = new NodeD();\n",
    "    new_node->item = item;\n",
    "    new_node->next = m_head;\n",
    "    \n",
    "    if(m_head != nullptr) m_head->prev = new_node;\n",
    "    if(m_tail == nullptr) m_tail = new_node;\n",
    "    m_head = new_node;\n",
    "}"
   ]
  },
  {
   "cell_type": "markdown",
   "id": "6c78edfc",
   "metadata": {},
   "source": [
    "2. `pop_front()`: Entnahme eines Elementes vom Anfang der Deque:"
   ]
  },
  {
   "cell_type": "code",
   "execution_count": 15,
   "id": "c90dd0cf",
   "metadata": {},
   "outputs": [],
   "source": [
    "int Deque::pop_front()\n",
    "{\n",
    "    // Ihre Loseung hier:\n",
    "    if(m_head == nullptr) throw std::out_of_range(\"Deque is empty!\");\n",
    "    \n",
    "    // cache value\n",
    "    int item = m_head->item;\n",
    "    \n",
    "    // remove node from deque\n",
    "    if(m_head->next != nullptr) \n",
    "    {\n",
    "        m_head = m_head->next;  // move head\n",
    "        delete m_head->prev;  // delete node\n",
    "        m_head->prev = nullptr;  // reset prev ptr\n",
    "    }\n",
    "    else \n",
    "    {\n",
    "        delete m_head;  // delte node\n",
    "        m_head = nullptr;  // reset head\n",
    "        m_tail = nullptr;  // reset tail\n",
    "    }\n",
    "    return item;\n",
    "}"
   ]
  },
  {
   "cell_type": "markdown",
   "id": "e1717ae9",
   "metadata": {},
   "source": [
    "3. `push_back(x)`: Einfügen eines neuen Datenelementes x am Ende der Deque:"
   ]
  },
  {
   "cell_type": "code",
   "execution_count": 16,
   "id": "1d06fb7c",
   "metadata": {},
   "outputs": [],
   "source": [
    "void Deque::push_back(const int& item)\n",
    "{\n",
    "    // Ihre Loseung hier:\n",
    "    NodeD* new_node = new NodeD();\n",
    "    new_node->item = item;\n",
    "    new_node->prev = m_tail;\n",
    "    \n",
    "    if(m_tail != nullptr) m_tail->next = new_node;\n",
    "    if(m_head == nullptr) m_head = new_node;\n",
    "    m_tail = new_node;\n",
    "}"
   ]
  },
  {
   "cell_type": "markdown",
   "id": "bb9c2c1f",
   "metadata": {},
   "source": [
    "4. `pop_back()`: Entnahme des letzten Elementes der Deque:"
   ]
  },
  {
   "cell_type": "code",
   "execution_count": 17,
   "id": "e1cf7312",
   "metadata": {},
   "outputs": [],
   "source": [
    "int Deque::pop_back()\n",
    "{\n",
    "    // Ihre Loseung hier:\n",
    "    if(m_tail == nullptr) throw std::out_of_range(\"Deque is empty!\");\n",
    "    \n",
    "    // cache value\n",
    "    int item = m_tail->item;\n",
    "    \n",
    "    // remove node from deque\n",
    "    if(m_tail->prev != nullptr) \n",
    "    {\n",
    "        m_tail = m_tail->prev;  // move head\n",
    "        delete m_tail->next;  // delete node\n",
    "        m_tail->next = nullptr;  // reset next ptr\n",
    "    }\n",
    "    else \n",
    "    {\n",
    "        delete m_tail;  // delte node\n",
    "        m_head = nullptr;  // reset head\n",
    "        m_tail = nullptr;  // reset tail\n",
    "    }\n",
    "    return item;\n",
    "}"
   ]
  },
  {
   "cell_type": "markdown",
   "id": "1adbc8fe",
   "metadata": {},
   "source": [
    "5. `print_all()`: Ausgabe aller Elemente vom Anfang bis zum Ende der Deque:"
   ]
  },
  {
   "cell_type": "code",
   "execution_count": 18,
   "id": "5cd8e923",
   "metadata": {},
   "outputs": [],
   "source": [
    "void Deque::print_all() const\n",
    "{\n",
    "    // Ihre Loseung hier:\n",
    "    NodeD* current = m_head;\n",
    "    \n",
    "    std::cout << \"[\";\n",
    "    while (current != nullptr)\n",
    "    {\n",
    "        std::cout << current->item;\n",
    "        if (current->next != nullptr) std::cout << \", \";\n",
    "        current = current->next;\n",
    "    }\n",
    "    std::cout << \"]\" << std::endl;\n",
    "}"
   ]
  },
  {
   "cell_type": "markdown",
   "id": "15ca2c12",
   "metadata": {},
   "source": [
    "Testen Sie Ihre Methoden:"
   ]
  },
  {
   "cell_type": "code",
   "execution_count": 19,
   "id": "ef4d5ea0",
   "metadata": {},
   "outputs": [
    {
     "name": "stdout",
     "output_type": "stream",
     "text": [
      "[0, 1, 2, 3]\n",
      "Pop front: 0, 1, 2, 3, \n",
      "[0, 1, 2, 3]\n",
      "Pop back: 3, 2, 1, 0, \n"
     ]
    }
   ],
   "source": [
    "// Ihre Loesung hier:\n",
    "Deque deque({0,1,2,3});\n",
    "deque.print_all();\n",
    "std::cout << \"Pop front: \";\n",
    "for(int i = 0; i < 4; i++) std::cout << deque.pop_front() << \", \";\n",
    "std::cout << std::endl;\n",
    "\n",
    "for(int i = 0; i < 4; i++) deque.push_back(i);\n",
    "deque.print_all();\n",
    "std::cout << \"Pop back: \";\n",
    "for(int i = 0; i < 4; i++) std::cout << deque.pop_back() << \", \";\n",
    "std::cout << std::endl;"
   ]
  },
  {
   "cell_type": "markdown",
   "id": "9d398fba",
   "metadata": {},
   "source": [
    "## Aufgabe 4 (Ausgabe einer 1-fach VL in umgekehrter Reihenfolge)\n",
    "Schreiben Sie einen Algorithmus, der in umgekehrter Reihenfolge die Elemente einer einfach verketteten Liste ausgibt. Ihr Algorithmus sollte dabei die Laufzeit von O(n) nicht übersteigen. \n",
    "\n",
    "Es gibt 2 Lösungen: eine iterative und eine rekursive Lösung. Bei der iterativen Lösung müssen Sie eine weitere Datenstruktur nutzen."
   ]
  },
  {
   "cell_type": "code",
   "execution_count": 20,
   "id": "d63d5f81",
   "metadata": {},
   "outputs": [],
   "source": [
    "void ListE::print_reversed() const\n",
    "{\n",
    "    // Ihre Loesung hier:\n",
    "    // rekursiv\n",
    "    std::cout << \"[\";\n",
    "    print_reversed_helper(m_head);\n",
    "    std::cout << \"]\" << std::endl;\n",
    "    \n",
    "    // iterativ\n",
    "    NodeE* current = m_head;\n",
    "    std::stack<int> stack;\n",
    "    while(current != nullptr)\n",
    "    {\n",
    "        stack.push(current->item);\n",
    "        current = current->next;\n",
    "    }\n",
    "    \n",
    "    std::cout << \"[\";\n",
    "    while(!stack.empty())\n",
    "    {\n",
    "        std::cout << stack.top() << \", \";\n",
    "        stack.pop();\n",
    "    }\n",
    "    std::cout << \"]\" << std::endl;\n",
    "}"
   ]
  },
  {
   "cell_type": "markdown",
   "id": "a50d96e6",
   "metadata": {},
   "source": [
    "Wenn der Algorithmus rekursiv implementiert wird, dann kann noch folgende Methode zur Hilfe genommen werden:"
   ]
  },
  {
   "cell_type": "code",
   "execution_count": 21,
   "id": "64679e49",
   "metadata": {},
   "outputs": [],
   "source": [
    "void ListE::print_reversed_helper(NodeE* node) const\n",
    "{\n",
    "    // Ihre Loesung hier:\n",
    "    if (node == nullptr) return;\n",
    "    print_reversed_helper(node->next);\n",
    "    std::cout << node->item << \", \";\n",
    "}"
   ]
  },
  {
   "cell_type": "markdown",
   "id": "12124f7e",
   "metadata": {},
   "source": [
    "Testen Sie Ihre Methode(n) hier:"
   ]
  },
  {
   "cell_type": "code",
   "execution_count": 22,
   "id": "837e6653",
   "metadata": {},
   "outputs": [
    {
     "name": "stdout",
     "output_type": "stream",
     "text": [
      "[5, 4, 3, 2, 1, 0, ]\n",
      "[5, 4, 3, 2, 1, 0, ]\n"
     ]
    }
   ],
   "source": [
    "ListE list_pr({0, 1, 2, 3, 4, 5});\n",
    "list_pr.print_reversed();"
   ]
  },
  {
   "cell_type": "markdown",
   "id": "dbfc075f",
   "metadata": {},
   "source": [
    "## Aufgabe 5 (2 Stacks mit einem Array)\n",
    "Schreiben Sie eine Klasse, die 2 Stacks mit einem Array implementiert. Ihre Stack Methoden sollen keinen Overflow deklarieren obwohl möglicherweise jede Arrayposition schon belegt ist. Überlegen Sie, was Sie tun können."
   ]
  },
  {
   "cell_type": "code",
   "execution_count": 23,
   "id": "1b942dcf",
   "metadata": {},
   "outputs": [],
   "source": [
    "class DoubleStack\n",
    "{\n",
    "public:\n",
    "    // Ihr(e) Konstruktor(en) hier:\n",
    "    DoubleStack(int allocation_size = 10) : \n",
    "        m_allocation_size(allocation_size), \n",
    "        m_array(new int[allocation_size]),\n",
    "        m_size(allocation_size),\n",
    "        m_i_stack0(0),\n",
    "        m_i_stack1(allocation_size-1)\n",
    "        {}\n",
    "    \n",
    "    // Ihr(e) Dekonstruktor(en) hier:\n",
    "    ~DoubleStack() { delete[] m_array; }\n",
    "    \n",
    "    // Fuegt ein Element zu Stack 0 hinzu\n",
    "    void push0(const int& item);\n",
    "    // Fuegt ein Element zu Stack 1 hinzu\n",
    "    void push1(const int& item);\n",
    "    \n",
    "    // Entfernt ein Element von Stack 0\n",
    "    int pop0();\n",
    "    // Entfernt ein Element von Stack 1\n",
    "    int pop1();\n",
    "private:\n",
    "    // Ihre Variablen hier:\n",
    "    int* m_array;\n",
    "    int m_allocation_size;  // Wie viel Speicher allokiert werden soll, \n",
    "                            // bei einer vergroeßerung des Arrays\n",
    "    int m_size; // Groeße des Arrays\n",
    "    int m_i_stack0;  // Index von Stack 0\n",
    "    int m_i_stack1;  // Index von Stack 1\n",
    "    \n",
    "    // Interne Resize Methode um bei vollem Array mehr \n",
    "    // Speicher zu allokieren:\n",
    "    void resize();\n",
    "};"
   ]
  },
  {
   "cell_type": "code",
   "execution_count": 24,
   "id": "b6f60332",
   "metadata": {},
   "outputs": [],
   "source": [
    "void DoubleStack::push0(const int& item)\n",
    "{\n",
    "    if (m_i_stack0 > m_i_stack1) resize();\n",
    "    m_array[m_i_stack0++] = item;\n",
    "}"
   ]
  },
  {
   "cell_type": "code",
   "execution_count": 25,
   "id": "2ffc93ae",
   "metadata": {},
   "outputs": [],
   "source": [
    "void DoubleStack::push1(const int& item)\n",
    "{\n",
    "    if (m_i_stack0 > m_i_stack1) resize();\n",
    "    m_array[m_i_stack1--] = item;\n",
    "}"
   ]
  },
  {
   "cell_type": "code",
   "execution_count": 26,
   "id": "ca78911c",
   "metadata": {},
   "outputs": [],
   "source": [
    "int DoubleStack::pop0()\n",
    "{\n",
    "    if (m_i_stack0 <= 0) throw std::out_of_range(\"Stack0 is empty!\");\n",
    "    return m_array[--m_i_stack0];\n",
    "}"
   ]
  },
  {
   "cell_type": "code",
   "execution_count": 27,
   "id": "cea65027",
   "metadata": {},
   "outputs": [],
   "source": [
    "int DoubleStack::pop1()\n",
    "{\n",
    "    if (m_i_stack1 >= m_size-1) throw std::out_of_range(\"Stack1 is empty!\");\n",
    "    return m_array[++m_i_stack1];\n",
    "}"
   ]
  },
  {
   "cell_type": "code",
   "execution_count": 28,
   "id": "1fdbb8b9",
   "metadata": {},
   "outputs": [],
   "source": [
    "void DoubleStack::resize()\n",
    "{\n",
    "    // Erstelle einen neuen Array\n",
    "    int* new_array = new int[m_size+m_allocation_size];\n",
    "    \n",
    "    // Kopiere Stack 0 Elemente\n",
    "    for (int i = 0; i < m_i_stack0; i++)\n",
    "    {\n",
    "        new_array[i] = m_array[i];\n",
    "    }\n",
    "    \n",
    "    // Kopiere Stack 1 Elemente\n",
    "    for (int i = m_i_stack1+1; i < m_size; i++)\n",
    "    {\n",
    "        new_array[i+m_allocation_size] = m_array[i];\n",
    "    }\n",
    "    \n",
    "    // Loesche den alten array\n",
    "    delete[] m_array;\n",
    "    \n",
    "    // Anpassen der Variabeln\n",
    "    m_array = new_array;\n",
    "    m_i_stack1 += m_allocation_size;\n",
    "    m_size += m_allocation_size;\n",
    "}"
   ]
  },
  {
   "cell_type": "markdown",
   "id": "c80ec8f0",
   "metadata": {},
   "source": [
    "Testen Sie ihre Klasse:"
   ]
  },
  {
   "cell_type": "code",
   "execution_count": 29,
   "id": "636ab182",
   "metadata": {},
   "outputs": [
    {
     "name": "stdout",
     "output_type": "stream",
     "text": [
      "1\n",
      "2\n",
      "3\n",
      "4\n",
      "5\n"
     ]
    }
   ],
   "source": [
    "DoubleStack stack(2);\n",
    "stack.push0(3);\n",
    "stack.push0(2);\n",
    "stack.push0(1);\n",
    "stack.push1(5);\n",
    "stack.push1(4);\n",
    "\n",
    "std::cout << stack.pop0() << std::endl;\n",
    "std::cout << stack.pop0() << std::endl;\n",
    "std::cout << stack.pop0() << std::endl;\n",
    "std::cout << stack.pop1() << std::endl;\n",
    "std::cout << stack.pop1() << std::endl;"
   ]
  },
  {
   "cell_type": "markdown",
   "id": "7ec3f1c4",
   "metadata": {},
   "source": [
    "## Aufgabe 6 (Taschenrechner)\n",
    "1. Schreiben Sie einen Algorithmus, der einen mathematischen Ausdruck von der Standard-Konsole in Infix-Notation einliest und auf richtige Klammerungen überprüft. Annahme: Zahlen sind nur vom Datentyp int und double. Zur Vereinfachung werden nur runde Klammer auf `(` und zu `)` zugelassen. Operanden sind `+`, `-`, `*`, `/`. *Ist der Ausdruck nicht korrekt, soll eine entsprechende Fehler-Notation ausgegeben werden. Ist der Ausdruck korrekt soll dieser mit der Teilaufgabe 2. weiter verarbeitet werden.*"
   ]
  },
  {
   "cell_type": "code",
   "execution_count": 30,
   "id": "0fe50c97",
   "metadata": {},
   "outputs": [],
   "source": [
    "// Algorithmus zum extrahieren einer Zahl aus einem String\n",
    "std::string extract_num(const std::string& input, const int& start_index)\n",
    "{\n",
    "    std::string number = \"\";\n",
    "    bool has_decimal_point = false;\n",
    "    \n",
    "    for (int i = start_index; i < input.size(); i++)\n",
    "    {\n",
    "        const char& c = input[i];\n",
    "        if (isdigit(c))number += c;\n",
    "        else if (c == '.')\n",
    "        {\n",
    "            if (has_decimal_point) break;\n",
    "            else \n",
    "            {\n",
    "                has_decimal_point = true;\n",
    "                number += c;\n",
    "            }\n",
    "        }\n",
    "        else break;\n",
    "    }\n",
    "    return number;\n",
    "}"
   ]
  },
  {
   "cell_type": "code",
   "execution_count": 31,
   "id": "f73956c7",
   "metadata": {},
   "outputs": [],
   "source": [
    "// Holen Sie sich hier die eingabe des Nutzers:\n",
    "std::string input = \"(2*3)+(4-1)\";\n",
    "// std::cout << \"Geben Sie hier ihre Funktion ein: \"\n",
    "// std::cin >> input;"
   ]
  },
  {
   "cell_type": "code",
   "execution_count": 32,
   "id": "ed01184a",
   "metadata": {},
   "outputs": [],
   "source": [
    "//Algorithmus zum testen einer korrekten Infixnotations Klammerung\n",
    "bool test_infix_brackets(std::string input)\n",
    "{\n",
    "    // Ihre Loesung hier:\n",
    "    int open_brackets = 0;\n",
    "    for (char& c : input)\n",
    "    {\n",
    "        if (c == '(') open_brackets++;\n",
    "        else if(c == ')') open_brackets--;\n",
    "    }\n",
    "    return open_brackets == 0;\n",
    "}"
   ]
  },
  {
   "cell_type": "code",
   "execution_count": 33,
   "id": "ade6b85d",
   "metadata": {},
   "outputs": [
    {
     "name": "stdout",
     "output_type": "stream",
     "text": [
      "Klammerung der Eingabe ist nicht in Ordnung."
     ]
    }
   ],
   "source": [
    "// Testen Sie hier Ihren Algorithmus zur kontrolle der Klammerung:\n",
    "std::cout << \"Klammerung der Eingabe ist \" \n",
    "    << (test_infix_brackets(input) ? \"nicht \" : \"\") << \"in Ordnung.\";"
   ]
  },
  {
   "cell_type": "markdown",
   "id": "198b5c97",
   "metadata": {},
   "source": [
    "2. Falls der Ausdruck korrekt geklammert ist, soll dieser von der Infix-Notation in die Postfix-Notation umgewandelt werden. "
   ]
  },
  {
   "cell_type": "code",
   "execution_count": 34,
   "id": "ec1b16ff",
   "metadata": {},
   "outputs": [],
   "source": [
    "// Algorithmus zur Umwandlung einer Infix-Notation in eine Postfix-Notation\n",
    "std::string infix_to_postfix(const std::string& input)\n",
    "{\n",
    "    // Ihre Loesung hier:\n",
    "    std::stack<std::list<std::string>> numbers;  // Stack fuer alle Zahlen pro Klammer-Ebene\n",
    "    std::stack<std::list<char>> operators;  // Stack fuer alle Operanden pro Klammer-Ebene\n",
    "    \n",
    "    // Initalisiere\n",
    "    numbers.push(std::list<std::string>());  \n",
    "    operators.push(std::list<char>());\n",
    "    \n",
    "    // Iteriere durch die Infix-Notation\n",
    "    for (int i = 0; i < input.size(); i++)\n",
    "    {\n",
    "        const char& c = input[i];\n",
    "        \n",
    "        // Verarbeiten des chars\n",
    "        if (c == ' ') continue;\n",
    "        else if (c == '(')\n",
    "        {\n",
    "            // Eine Klammer auf oeffnet eine neue Ebene\n",
    "            numbers.push(std::list<std::string>());\n",
    "            operators.push(std::list<char>());\n",
    "        }\n",
    "        else if (c == ')')\n",
    "        {\n",
    "            // Eine Klammer zu schließt die aktuelle Ebene und baut aus dieser einen Term\n",
    "            // build term\n",
    "            std::stringstream term;\n",
    "            \n",
    "            // Alle Zahlen zusammenfuegen\n",
    "            for (std::list<std::string>::iterator iter = numbers.top().begin(); \n",
    "                 iter != numbers.top().end(); iter++)\n",
    "            {\n",
    "                term << *iter << \" \";\n",
    "            }\n",
    "            \n",
    "            // Alle Operatoren in umgekehrter Reihenfolge zusammenfuegen\n",
    "            for (std::list<char>::reverse_iterator iter = operators.top().rbegin(); \n",
    "                 iter != operators.top().rend(); iter++)\n",
    "            {\n",
    "                term << *iter << \" \";\n",
    "            }\n",
    "            \n",
    "            // clear stack\n",
    "            numbers.pop();\n",
    "            operators.pop();\n",
    "            \n",
    "            numbers.top().push_back(term.str());\n",
    "        }\n",
    "        else if (c == '+' || c == '-' || c == '*' || c == '/') operators.top().push_back(c);\n",
    "        else if (isdigit(c))\n",
    "        {\n",
    "            std::string number = extract_num(input, i);\n",
    "            numbers.top().push_back(extract_num(input, i));\n",
    "            i += number.size() - 1;  // index entsprechend der Groeße von der Zahl verschieben \n",
    "        }\n",
    "        else\n",
    "        {\n",
    "            throw std::invalid_argument(\"Die Infixnotation '\" + input + \"', hat am Index \" \n",
    "                                        + std::to_string(i) + \" ein ungueltiges Zeichen.\");\n",
    "        }\n",
    "    }\n",
    "    \n",
    "    \n",
    "    // build term\n",
    "    std::stringstream term;\n",
    "    \n",
    "    // Alle Zahlen zusammenfuegen\n",
    "    for (std::list<std::string>::iterator iter = numbers.top().begin(); \n",
    "         iter != numbers.top().end(); iter++)\n",
    "    {\n",
    "        term << *iter;\n",
    "    }\n",
    "    \n",
    "    // Alle Operatoren in umgekehrter Reihenfolge zusammenfuegen\n",
    "    for (std::list<char>::reverse_iterator iter = operators.top().rbegin(); \n",
    "         iter != operators.top().rend(); iter++)\n",
    "    {\n",
    "        term << *iter;\n",
    "    }\n",
    "    \n",
    "    // Rueckgabe der fertigen Postfix Notation als String\n",
    "    return term.str();\n",
    "}"
   ]
  },
  {
   "cell_type": "code",
   "execution_count": 35,
   "id": "3f707655",
   "metadata": {},
   "outputs": [
    {
     "name": "stdout",
     "output_type": "stream",
     "text": [
      "Infix: (2*3)+(4-1)\n",
      "Postfix: 2 3 * 4 1 - +\n"
     ]
    }
   ],
   "source": [
    "// Testen Sie Ihre Funktion:\n",
    "std::cout << \"Infix: \" << input << std::endl;\n",
    "std::cout << \"Postfix: \" << infix_to_postfix(input) << std::endl;"
   ]
  },
  {
   "cell_type": "markdown",
   "id": "9038b031",
   "metadata": {},
   "source": [
    "3. Berechnen Sie den Postfix-Ausdruck mit Hilfe eines Stapels. \n",
    "Folgende 2 Regeln sollen angewendet werden: \n",
    "    - Push, falls eine Zahl eingelesen wird.\n",
    "    - Bei Operand: Entnehme 2 Einträge (pop-Operation) vom Stapel, führe die Operation aus. Pushe das Ergebnis wieder in den Stapel."
   ]
  },
  {
   "cell_type": "code",
   "execution_count": 36,
   "id": "4eae73e0",
   "metadata": {},
   "outputs": [],
   "source": [
    "double calculate_postfix(const std::string& input)\n",
    "{\n",
    "    // Ihre Loesung hier\n",
    "    std::stack<double> numbers;\n",
    "    \n",
    "    for (int i = 0; i < input.size(); i++)\n",
    "    {\n",
    "        const char& c = input[i];\n",
    "        \n",
    "        if (c == ' ') continue;\n",
    "        else if (isdigit(c))  // 1. Fall\n",
    "        {\n",
    "            std::string number = extract_num(input, i);\n",
    "            numbers.push(std::stod(number));\n",
    "            i += number.size() - 1;\n",
    "        }\n",
    "        else  // 2. Fall\n",
    "        {\n",
    "            double num1 = numbers.top();\n",
    "            numbers.pop();\n",
    "            double num0 = numbers.top();\n",
    "            numbers.pop();\n",
    "            if (c == '+') numbers.push(num0 + num1);\n",
    "            if (c == '-') numbers.push(num0 - num1);\n",
    "            if (c == '*') numbers.push(num0 * num1);\n",
    "            if (c == '/') numbers.push(num0 / num1);\n",
    "        }\n",
    "    }\n",
    "    return numbers.top();\n",
    "}"
   ]
  },
  {
   "cell_type": "markdown",
   "id": "41d5d6d9",
   "metadata": {},
   "source": [
    "Geben Sie den Infix-Ausdruck, den Postfix-Ausdruck und das Endergebnis auf der Konsole aus."
   ]
  },
  {
   "cell_type": "code",
   "execution_count": 37,
   "id": "7113f87f",
   "metadata": {},
   "outputs": [
    {
     "name": "stdout",
     "output_type": "stream",
     "text": [
      "Infix: (2*3)+(4-1)\n",
      "Postfix: 2 3 * 4 1 - +\n",
      "Ergebnis: 9\n"
     ]
    }
   ],
   "source": [
    "// Testen Sie Ihre Funktion:\n",
    "std::string input_postfix = infix_to_postfix(input);\n",
    "double result = calculate_postfix(input_postfix);\n",
    "std::cout << \"Infix: \" << input << std::endl;\n",
    "std::cout << \"Postfix: \" << input_postfix << std::endl;\n",
    "std::cout << \"Ergebnis: \" << result << std::endl;"
   ]
  }
 ],
 "metadata": {
  "kernelspec": {
   "display_name": "C++17",
   "language": "C++17",
   "name": "xcpp17"
  },
  "language_info": {
   "codemirror_mode": "text/x-c++src",
   "file_extension": ".cpp",
   "mimetype": "text/x-c++src",
   "name": "c++",
   "version": "17"
  }
 },
 "nbformat": 4,
 "nbformat_minor": 5
}
