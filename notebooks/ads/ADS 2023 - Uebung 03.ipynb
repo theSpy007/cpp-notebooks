{
 "cells": [
  {
   "cell_type": "markdown",
   "id": "d0e30912-a76d-431b-b49a-334fddb7b318",
   "metadata": {},
   "source": [
    "# ADS - Übung 3 - SS2023 [`@Ingrid Scholl - FH Aachen`](https://www.fh-aachen.de/menschen/scholl)\n",
    "**Thema**: Binärer Suchbaum (BST)"
   ]
  },
  {
   "cell_type": "code",
   "execution_count": 1,
   "id": "08fc8f21-8fa4-4b01-896e-3f95fb754b20",
   "metadata": {},
   "outputs": [],
   "source": [
    "// includes\n",
    "#include <stdexcept>\n",
    "#include <stack>\n",
    "#include <iostream>\n",
    "#include <queue>"
   ]
  },
  {
   "cell_type": "markdown",
   "id": "1d779bb8-7c1d-43cd-89a4-9f9bfcd4378c",
   "metadata": {},
   "source": [
    "## Aufgabe 1\n",
    "1. Welche Eigenschaften kennzeichnet ein binärer Suchbaum (BST)?\n",
    "2. Handelt es sich bei folgendem Baum um einen BST? Begründen Sie!\n",
    "\n",
    "![BST](images/ue03/bst.png \"BST?\")"
   ]
  },
  {
   "cell_type": "markdown",
   "id": "8dbac773-e190-4758-83fc-c727ebe23db3",
   "metadata": {},
   "source": [
    "## Aufgabe 2\n",
    "Nennen Sie fünf mögliche Reihenfolgen der Schlüssel `A X C S E R H`, die beim Einfügen in einen anfänglich leeren BST den \n",
    "\n",
    "1. Worst Case\n",
    "2. Best Case\n",
    "\n",
    "erzeugen."
   ]
  },
  {
   "cell_type": "markdown",
   "id": "9f032d11-f8c5-4207-be5f-10372e67f9ea",
   "metadata": {},
   "source": [
    "## Aufgabe 3\n",
    "\n",
    "Angenommen, ein bestimmter BST hat ganze Zahlen zwischen 1 und 10 als Schlüssel und wir suchen nach der 5. Welche der folgenden Sequenzen können nicht die untersuchte Schlüsselfolge sein?\n",
    "\n",
    "    a) 10, 9, 8, 7, 6, 5\n",
    "    b) 4, 10, 8, 7, 3, 5\n",
    "    c) 1, 10, 2, 9, 3, 8, 4, 7, 6, 5 \n",
    "    d) 2, 7, 3, 8, 4, 5 \n",
    "    e) 1, 2, 10, 4, 8, 5 "
   ]
  },
  {
   "cell_type": "markdown",
   "id": "3e750367-6dc9-4634-90b0-8deba4ce11b1",
   "metadata": {},
   "source": [
    "## Aufgabe 4 \n",
    "\n",
    "1. Fügen Sie die folgenden Zahlen sukzessive in einen BST ein:  \n",
    "    `50`, `30`, `15`, `5`, `3`, `2`, `1`, `80`, `70`, `65`, `40`, `6`, `55`\n",
    "2. Bestimmen Sie folgende Eigenschaften:\n",
    "    - Höhe des Baumes\n",
    "    - Anzahl Niveaus\n",
    "    - Höhe der Knoten\n",
    "    - Knoten mit Niveau 2\n",
    "    - Kindknoten von 50\n",
    "    - Elternknoten von 70\n",
    "3. Berechnen Sie den Durchschnitt der mittleren Vergleiche, um einen Knoten in dem gegebenen BST zu finden.\n",
    "4. Wie lautet die Traversierung der Knoten im BST für die folgenden Methoden:\n",
    "    - Preorder\n",
    "    - Inorder\n",
    "    - Postorder\n",
    "    - Levelorder"
   ]
  },
  {
   "cell_type": "markdown",
   "id": "8b8dd869-4ed3-4cfc-afe8-1f085747a549",
   "metadata": {},
   "source": [
    "## Aufgabe 5\n",
    "Gegeben ist die folgende Datenstruktur für einen Knoten des BST:"
   ]
  },
  {
   "cell_type": "code",
   "execution_count": 2,
   "id": "561e8560-ac82-4001-b1cf-8cf343aa7b60",
   "metadata": {},
   "outputs": [],
   "source": [
    "class TreeNode\n",
    "{\n",
    "public:\n",
    "    int key;\n",
    "    TreeNode* left;\n",
    "    TreeNode* right;\n",
    "};"
   ]
  },
  {
   "cell_type": "markdown",
   "id": "6067e99d-9c61-4228-9410-30aff3781342",
   "metadata": {},
   "source": [
    "Weiterhin sei die Datenstruktur für den BST selbst wie folgt gegeben:"
   ]
  },
  {
   "cell_type": "code",
   "execution_count": 3,
   "id": "c543d92a-48eb-4591-b632-3a70036d39d7",
   "metadata": {},
   "outputs": [],
   "source": [
    "class BinarySearchTree\n",
    "{\n",
    "public:\n",
    "    // Konstruktor\n",
    "    BinarySearchTree() { m_anker = nullptr; };\n",
    "    \n",
    "    // Dekonstruktor\n",
    "    ~BinarySearchTree()\n",
    "    {\n",
    "        std::stack<TreeNode*> nodes;\n",
    "        nodes.push(m_anker);\n",
    "        while (!nodes.empty())\n",
    "        {\n",
    "            TreeNode* node = nodes.top();\n",
    "            nodes.pop();\n",
    "            \n",
    "            if (node == nullptr) continue;\n",
    "            \n",
    "            nodes.push(node->left);\n",
    "            nodes.push(node->right);\n",
    "            \n",
    "            delete node;\n",
    "        }\n",
    "    }\n",
    "    \n",
    "    // Fuegt einen Knoten zum Baum hinzu\n",
    "    void add(const int& key) { m_add(key, m_anker); }\n",
    "    \n",
    "    // Guckt ob ein key im Baum vorhanden ist\n",
    "    bool exists(const int& key) const { return m_search(key) != nullptr; }\n",
    "    \n",
    "    // 3. Rekursive Methode die alle Knoten in Postorder ausgibt\n",
    "    void print_postorder() const;\n",
    "    \n",
    "    // 4. Iterative Methode die alle Knoten Niveauweise ausgibt\n",
    "    void print_niveau() const;\n",
    "    \n",
    "    // 5. Loescht einen beliebigen Knoten im BST und setzt an dessen Stelle das Maximum vom linken Teilbaum\n",
    "    bool delete_node(const int& key);\n",
    "    \n",
    "    // Gibt den maximalen Key Wert zurueck\n",
    "    bool max(int& max) {\n",
    "        if (m_anker == nullptr) return false;\n",
    "        else\n",
    "        {\n",
    "            max = m_max(m_anker)->key; \n",
    "            return true;\n",
    "        }\n",
    "    }\n",
    "private:\n",
    "    TreeNode* m_anker;\n",
    "    // 1. Fuegt einen Knoten als Nachfolger eines gegeben Knoten ein\n",
    "    void m_add(const int& key, TreeNode* parent);\n",
    "    \n",
    "    // 2. Sucht einen Knoten im BST\n",
    "    TreeNode* m_search(const int& key) const;\n",
    "    \n",
    "    // Hilfsmethode fuer 3.\n",
    "    void m_print_postorder(TreeNode* node) const;\n",
    "    \n",
    "    // 6. Recursive Methode die den maximalen Knoten zurueck gibt\n",
    "    TreeNode* m_max(TreeNode* node) const;\n",
    "};\n",
    "\n",
    "// Initalisierung eines Baumes zum testen im folgenden Code\n",
    "BinarySearchTree bst;"
   ]
  },
  {
   "cell_type": "markdown",
   "id": "3c2fddeb-35a8-4333-a02c-6cf6e7269cb0",
   "metadata": {},
   "source": [
    "1. Schreiben Sie eine Methode, die einen neuen Knoten erzeugt und als Nachfolger eines gegebenen Knoten einfügt:"
   ]
  },
  {
   "cell_type": "code",
   "execution_count": 4,
   "id": "3db2558e-9c80-4dce-898d-b3a8b7dc56e8",
   "metadata": {},
   "outputs": [],
   "source": [
    "void BinarySearchTree::m_add(const int& key, TreeNode* parent)\n",
    "{\n",
    "    // Ihre Loesung hier:    \n",
    "    // Neue Node erstellen\n",
    "    TreeNode* node = new TreeNode();\n",
    "    node->key = key;\n",
    "    \n",
    "    // Wenn der Baum leer ist:\n",
    "    if (parent == nullptr)\n",
    "    {\n",
    "        m_anker = node;\n",
    "        return;\n",
    "    }\n",
    "    \n",
    "    // Korrekte Stelle im Baum suchen\n",
    "    while (true)\n",
    "    {\n",
    "        if (key < parent->key)\n",
    "        {\n",
    "            if (parent->left != nullptr) parent = parent->left;\n",
    "            else\n",
    "            {\n",
    "                parent->left = node;\n",
    "                break;\n",
    "            }\n",
    "        }\n",
    "        else\n",
    "        {\n",
    "            if (parent->right != nullptr) parent = parent->right;\n",
    "            else\n",
    "            {\n",
    "                parent->right = node;\n",
    "                break;\n",
    "            }\n",
    "        }\n",
    "    }\n",
    "}"
   ]
  },
  {
   "cell_type": "code",
   "execution_count": 5,
   "id": "8dff071c-46b3-4633-b931-2d0db3b39605",
   "metadata": {},
   "outputs": [],
   "source": [
    "// Testen Sie Ihre Methode mit Hilfe der add Methode hier:\n",
    "bst.add(5);\n",
    "bst.add(2);\n",
    "bst.add(6);\n",
    "bst.add(7);\n",
    "bst.add(8);\n",
    "bst.add(1);\n",
    "bst.add(4);\n",
    "bst.add(3);"
   ]
  },
  {
   "cell_type": "markdown",
   "id": "bd52491b-99d0-402e-b62b-1f45be7283e0",
   "metadata": {},
   "source": [
    "2. Schreiben Sie eine Methode, die einen Knoten im BST sucht:"
   ]
  },
  {
   "cell_type": "code",
   "execution_count": 6,
   "id": "30247e02-a0ad-46c4-805d-74458f593252",
   "metadata": {},
   "outputs": [],
   "source": [
    "TreeNode* BinarySearchTree::m_search(const int& key) const\n",
    "{\n",
    "    // Ihre Loesung hier:\n",
    "    TreeNode* node = m_anker;\n",
    "    \n",
    "    while (node != nullptr && node->key != key)\n",
    "    {\n",
    "        if (key < node->key) node = node->left;\n",
    "        else node = node->right;\n",
    "    }\n",
    "    \n",
    "    return node;\n",
    "}"
   ]
  },
  {
   "cell_type": "code",
   "execution_count": 7,
   "id": "9087f4b5-2e49-4378-8f6e-6d84b9671322",
   "metadata": {},
   "outputs": [
    {
     "name": "stdout",
     "output_type": "stream",
     "text": [
      "Knoten mit dem Key 0 ist im Baum nicht vorhanden.\n",
      "Knoten mit dem Key 3 ist im Baum vorhanden.\n"
     ]
    }
   ],
   "source": [
    "// Testen Sie Ihre Methode mit Hilfe der exists Methode hier:\n",
    "std::cout << \"Knoten mit dem Key 0 ist im Baum\" << (bst.exists(0) ? \"\" : \" nicht\") << \" vorhanden.\" << std::endl;\n",
    "std::cout << \"Knoten mit dem Key 3 ist im Baum\" << (bst.exists(3) ? \"\" : \" nicht\") << \" vorhanden.\" << std::endl;"
   ]
  },
  {
   "cell_type": "markdown",
   "id": "9e342913-e2f1-474a-b770-08ab6c75a6e1",
   "metadata": {},
   "source": [
    "3. Schreiben Sie eine Methode, die alle Knoten mit einer rekursiven Methode von den Blattknoten bis zur Wurzel ausgibt (Postorder-Methode) (Sie können dafür die Hilfsmethode `m_print_postorder` nutzen.):"
   ]
  },
  {
   "cell_type": "code",
   "execution_count": 8,
   "id": "fcefc5a6-6489-4134-9b10-006800cc8863",
   "metadata": {},
   "outputs": [],
   "source": [
    "void BinarySearchTree::m_print_postorder(TreeNode* node) const\n",
    "{\n",
    "    // Ihre Loesung hier:\n",
    "    \n",
    "    // Recursiver Aufruf\n",
    "    if (node->left != nullptr) m_print_postorder(node->left);\n",
    "    if (node->right != nullptr) m_print_postorder(node->right);\n",
    "    \n",
    "    // Ausgabe\n",
    "    std::cout << node->key << \", \";\n",
    "}"
   ]
  },
  {
   "cell_type": "code",
   "execution_count": 9,
   "id": "5fc76219-df5e-47aa-9bce-81f2fb30561f",
   "metadata": {},
   "outputs": [],
   "source": [
    "void BinarySearchTree::print_postorder() const\n",
    "{\n",
    "    // Ihre Loesung hier:\n",
    "    if (m_anker == nullptr) \n",
    "    {\n",
    "        std::cout << \"Tree is empty!\" << std::endl;\n",
    "        return;\n",
    "    }\n",
    "    \n",
    "    m_print_postorder(m_anker);\n",
    "    std::cout << std::endl;\n",
    "}"
   ]
  },
  {
   "cell_type": "code",
   "execution_count": 10,
   "id": "9faaff3c-2248-4188-aeb5-d9401030a6fb",
   "metadata": {},
   "outputs": [
    {
     "name": "stdout",
     "output_type": "stream",
     "text": [
      "1, 3, 4, 2, 8, 7, 6, 5, \n"
     ]
    }
   ],
   "source": [
    "// Testen Sie Ihre Methode hier:\n",
    "bst.print_postorder();"
   ]
  },
  {
   "cell_type": "markdown",
   "id": "22edb73e-c812-4cb7-a4a7-aebcfe1b9586",
   "metadata": {},
   "source": [
    "4. Schreiben Sie eine iterative Methode, die alle Knoten im BST niveauweise ausgibt:"
   ]
  },
  {
   "cell_type": "code",
   "execution_count": 11,
   "id": "9a2845f5-3c67-4e1f-9a6d-1435385aa2ee",
   "metadata": {},
   "outputs": [],
   "source": [
    "void BinarySearchTree::print_niveau() const\n",
    "{\n",
    "    // Ihre Loesung hier:\n",
    "    if (m_anker == nullptr) \n",
    "    {\n",
    "        std::cout << \"Tree is empty!\" << std::endl;\n",
    "        return;\n",
    "    }\n",
    "    \n",
    "    std::queue<TreeNode*> nodes;\n",
    "    nodes.push(m_anker);\n",
    "    \n",
    "    while (!nodes.empty())\n",
    "    {\n",
    "        std::cout << nodes.front()->key << \", \";\n",
    "        if (nodes.front()->left != nullptr) nodes.push(nodes.front()->left);\n",
    "        if (nodes.front()->right != nullptr) nodes.push(nodes.front()->right);\n",
    "        nodes.pop();\n",
    "    }\n",
    "    std::cout << std::endl;\n",
    "}"
   ]
  },
  {
   "cell_type": "code",
   "execution_count": 12,
   "id": "24cde7d8-2b6b-4636-8e9b-a281127fba7d",
   "metadata": {},
   "outputs": [
    {
     "name": "stdout",
     "output_type": "stream",
     "text": [
      "5, 2, 6, 1, 4, 7, 3, 8, \n"
     ]
    }
   ],
   "source": [
    "// Testen Sie Ihre Methode hier:\n",
    "bst.print_niveau();"
   ]
  },
  {
   "cell_type": "markdown",
   "id": "c33efd5c-d43f-4c9d-94ef-a28ccd175f1c",
   "metadata": {},
   "source": [
    "5. Schreiben Sie eine Methode, die einen beliebigen Knoten im BST löscht. Dabei soll der zu löschende Knoten gesucht werden und durch das Maximum im linken Teilbaum ersetzt werden:"
   ]
  },
  {
   "cell_type": "code",
   "execution_count": 13,
   "id": "7bd866b8-713b-4b22-aff2-d46de17271dd",
   "metadata": {},
   "outputs": [],
   "source": [
    "bool BinarySearchTree::delete_node(const int& key)\n",
    "{\n",
    "    // Ihre Loesung hier:\n",
    "    \n",
    "    // Suche Knoten mit dem richtigen key\n",
    "    TreeNode* parent = nullptr;\n",
    "    TreeNode* node = m_anker;\n",
    "    while (node != nullptr && node->key != key)\n",
    "    {\n",
    "        parent = node;\n",
    "        if (key < node->key) node = node->left;\n",
    "        else node = node->right;\n",
    "    }\n",
    "    \n",
    "    if (node == nullptr) return false; // key not found\n",
    "    \n",
    "    // Suche max im ltb\n",
    "    TreeNode* max_parent = node;\n",
    "    TreeNode* max_node = node->left;\n",
    "    while (max_node != nullptr && max_node->right != nullptr)\n",
    "    {\n",
    "        max_parent = max_node;\n",
    "        max_node = max_node->right;\n",
    "    }\n",
    "    \n",
    "    // Setze max an die Stelle von node\n",
    "    if (max_node != nullptr)\n",
    "    {\n",
    "        if (max_parent != node) \n",
    "        {\n",
    "            max_parent->right = max_node->left;\n",
    "            max_node->left = node->left;\n",
    "        }\n",
    "        max_node->right = node->right;\n",
    "    }\n",
    "    else\n",
    "    {\n",
    "        max_node = node->right;\n",
    "    }\n",
    "    \n",
    "    if (parent != nullptr)\n",
    "    {\n",
    "        if (parent->left == node) parent->left = max_node;\n",
    "        else parent->right = max_node;\n",
    "    }\n",
    "    else m_anker = max_node;\n",
    "    \n",
    "    delete node;\n",
    "    \n",
    "    return true;\n",
    "}"
   ]
  },
  {
   "cell_type": "code",
   "execution_count": 14,
   "id": "6920272e-c91a-4733-b9b8-2edf87b8a097",
   "metadata": {},
   "outputs": [
    {
     "name": "stdout",
     "output_type": "stream",
     "text": [
      "4, 2, 6, 1, 3, 7, 8, \n",
      "4, 2, 6, 1, 7, 8, \n",
      "4, 2, 6, 7, 8, \n",
      "2, 6, 7, 8, \n",
      "2, 7, 8, \n",
      "2, 7, \n",
      "2, \n",
      "Tree is empty!\n"
     ]
    }
   ],
   "source": [
    "// Testen Sie Ihre Methode hier:\n",
    "bst.delete_node(5);\n",
    "bst.print_niveau();\n",
    "bst.delete_node(3);\n",
    "bst.print_niveau();\n",
    "bst.delete_node(1);\n",
    "bst.print_niveau();\n",
    "bst.delete_node(4);\n",
    "bst.print_niveau();\n",
    "bst.delete_node(6);\n",
    "bst.print_niveau();\n",
    "bst.delete_node(8);\n",
    "bst.print_niveau();\n",
    "bst.delete_node(7);\n",
    "bst.print_niveau();\n",
    "bst.delete_node(2);\n",
    "bst.print_niveau();"
   ]
  },
  {
   "cell_type": "markdown",
   "id": "bc3136c6-3971-4a69-a564-55ad11867ac4",
   "metadata": {},
   "source": [
    "6. Schreiben Sie eine rekursive Methode, die den maximalen Knoten im BST zurück gibt:"
   ]
  },
  {
   "cell_type": "code",
   "execution_count": 15,
   "id": "46301e86-b514-4dde-80b5-6cb2befd091f",
   "metadata": {},
   "outputs": [],
   "source": [
    "TreeNode* BinarySearchTree::m_max(TreeNode* node) const\n",
    "{\n",
    "    // Ihre Loesung hier:\n",
    "    if (node->right != nullptr) return m_max(node->right);\n",
    "    else return node;\n",
    "}"
   ]
  },
  {
   "cell_type": "code",
   "execution_count": 16,
   "id": "f1630b1c-9ae5-4e42-8ee8-714d8aad2499",
   "metadata": {},
   "outputs": [
    {
     "name": "stdout",
     "output_type": "stream",
     "text": [
      "Tree is empty!\n"
     ]
    }
   ],
   "source": [
    "// Testen Sie Ihre Methode mit Hilfe der max Methode hier:\n",
    "int max_value = 0;\n",
    "if (bst.max(max_value)) std::cout << \"Max is: \" << max_value << std::endl;\n",
    "else std::cout << \"Tree is empty!\" << std::endl;"
   ]
  },
  {
   "cell_type": "markdown",
   "id": "eddfbf8e-3d60-4f78-aaec-55d99f1e5738",
   "metadata": {},
   "source": [
    "## Aufgabe 6\n",
    "Erzeuge BST der Höhen `2`, `3`, `4`, `5` und `6` mit der folgenden Schlüsselmenge: \n",
    "`{1, 4, 5, 10, 16, 17, 21}`."
   ]
  },
  {
   "cell_type": "markdown",
   "id": "d3c9d819-80ea-4aab-8c5d-ce020a0d95ed",
   "metadata": {},
   "source": [
    "## Aufgabe 7\n",
    "In einem BST seien Zahlen zwischen `1` und `1000` gespeichert. Es soll der Knoten mit dem Schlüssel `363` gesucht werden. Welche der folgenden Sequenzen (Knoten entlang des Suchpfades) kann nicht aus dem BST stammen?\n",
    "\n",
    "    (a) 2, 252, 401, 398, 330, 344, 397, 363.\n",
    "    (b) 924, 220, 911, 244, 898, 258, 362, 363.\n",
    "    (c) 925, 202, 911, 240, 912, 245, 363.\n",
    "    (d) 2, 399, 387, 219, 266, 382, 381, 278, 363.\n",
    "    (e) 935, 278, 347, 621, 299, 392, 358, 363."
   ]
  }
 ],
 "metadata": {
  "kernelspec": {
   "display_name": "C++17",
   "language": "C++17",
   "name": "xcpp17"
  },
  "language_info": {
   "codemirror_mode": "text/x-c++src",
   "file_extension": ".cpp",
   "mimetype": "text/x-c++src",
   "name": "c++",
   "version": "17"
  }
 },
 "nbformat": 4,
 "nbformat_minor": 5
}
